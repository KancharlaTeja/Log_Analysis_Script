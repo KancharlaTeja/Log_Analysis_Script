{
 "cells": [
  {
   "cell_type": "code",
   "execution_count": 5,
   "id": "0779b751",
   "metadata": {},
   "outputs": [
    {
     "name": "stdout",
     "output_type": "stream",
     "text": [
      "IP Address           Request Count\n",
      "203.0.113.5          8\n",
      "198.51.100.23        8\n",
      "192.168.1.1          7\n",
      "10.0.0.2             6\n",
      "192.168.1.100        5\n",
      "\n",
      "Most Frequently Accessed Endpoint:\n",
      "/login (Accessed 13 times)\n"
     ]
    }
   ],
   "source": [
    "import csv\n",
    "from collections import defaultdict\n",
    "\n",
    "def analyze_log_data(file_path, login_threshold=10):\n",
    "    ip_tracker = defaultdict(int)\n",
    "    endpoint_tracker = defaultdict(int)\n",
    "    failed_attempt_tracker = defaultdict(int)\n",
    "    \n",
    "    try:\n",
    "        with open(file_path, 'r') as log:\n",
    "            for record in log:\n",
    "                components = record.split()\n",
    "                if len(components) < 9:\n",
    "                    continue\n",
    "                \n",
    "                user_ip = components[0]\n",
    "                requested_resource = components[6]\n",
    "                response_code = components[8]\n",
    "                \n",
    "                ip_tracker[user_ip] += 1\n",
    "                endpoint_tracker[requested_resource] += 1\n",
    "                \n",
    "                if response_code == '401' or 'Invalid credentials' in record:\n",
    "                    failed_attempt_tracker[user_ip] += 1\n",
    "    except Exception as e:\n",
    "        print(f\"Error processing log file: {e}\")\n",
    "        return\n",
    "\n",
    "    sorted_ips = sorted(ip_tracker.items(), key=lambda x: x[1], reverse=True)\n",
    "    top_endpoint = max(endpoint_tracker.items(), key=lambda x: x[1])\n",
    "    flagged_ips = {ip: count for ip, count in failed_attempt_tracker.items() if count > login_threshold}\n",
    "    \n",
    "    print(\"IP Address           Request Count\")\n",
    "    for ip, count in sorted_ips:\n",
    "        print(f\"{ip:<20} {count}\")\n",
    "    \n",
    "    print(f\"\\nMost Frequently Accessed Endpoint:\\n{top_endpoint[0]} (Accessed {top_endpoint[1]} times)\")\n",
    "    \n",
    "    if flagged_ips:\n",
    "        print(\"\\nSuspicious Activity Detected:\")\n",
    "        print(\"IP Address           Failed Login Attempts\")\n",
    "        for ip, count in flagged_ips.items():\n",
    "            print(f\"{ip:<20} {count}\")\n",
    "\n",
    "    with open(\"log_analysis_results.csv\", mode=\"w\", newline=\"\") as output_file:\n",
    "        writer = csv.writer(output_file)\n",
    "        writer.writerow([\"IP Address\", \"Request Count\"])\n",
    "        writer.writerows(sorted_ips)\n",
    "        writer.writerow([])\n",
    "        writer.writerow([\"Most Accessed Endpoint\", \"Access Count\"])\n",
    "        writer.writerow([top_endpoint[0], top_endpoint[1]])\n",
    "        writer.writerow([])\n",
    "        writer.writerow([\"IP Address\", \"Failed Login Count\"])\n",
    "        writer.writerows(flagged_ips.items())\n",
    "\n",
    "analyze_log_data(\"C:\\\\Users\\\\DELL\\\\OneDrive\\\\Desktop\\\\Sample.log\", login_threshold=10)\n"
   ]
  },
  {
   "cell_type": "code",
   "execution_count": null,
   "id": "064b31e2",
   "metadata": {},
   "outputs": [],
   "source": []
  }
 ],
 "metadata": {
  "kernelspec": {
   "display_name": "Python 3",
   "language": "python",
   "name": "python3"
  },
  "language_info": {
   "codemirror_mode": {
    "name": "ipython",
    "version": 3
   },
   "file_extension": ".py",
   "mimetype": "text/x-python",
   "name": "python",
   "nbconvert_exporter": "python",
   "pygments_lexer": "ipython3",
   "version": "3.8.8"
  }
 },
 "nbformat": 4,
 "nbformat_minor": 5
}
